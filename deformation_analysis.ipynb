{
 "cells": [
  {
   "cell_type": "markdown",
   "id": "7b2962b9",
   "metadata": {},
   "source": [
    "From reference, for a clamped circular plate of thickness $h$, we know that the deformation $\\omega_{max}=-\\frac{q}{64D}(x_0^2+y_0^2-r^2)^2$, where $q$ is air pressure (100677.97 Pa), $D$ is plate stiffness (detailed belwo), $r$ is the radius of the plate, and $(x_0,y_0)$ is the center of the plate (here, we assume it's centered at the origin).\n"
   ]
  },
  {
   "cell_type": "markdown",
   "id": "aa9fec54",
   "metadata": {},
   "source": [
    "Plate stiffness is given by $D=\\frac{Eh^3}{12(1-\\nu^2)}$, where $E$ is young's modulus of the glass, $\\nu$ is the poisson ratio of the glass."
   ]
  },
  {
   "cell_type": "markdown",
   "id": "bf41505a",
   "metadata": {},
   "source": [
    "Then, $\\omega_{max}=-\\frac{12q(1-\\nu^2)}{64Eh^3}(x_0^2+y_0^2-r^2)^2$\n",
    "\n"
   ]
  },
  {
   "cell_type": "code",
   "execution_count": 1,
   "id": "666a6c47",
   "metadata": {},
   "outputs": [],
   "source": [
    "import numpy as np\n",
    "import matplotlib.pyplot as plt\n",
    "import pandas as pd"
   ]
  },
  {
   "cell_type": "code",
   "execution_count": 2,
   "id": "7f8d31d7",
   "metadata": {},
   "outputs": [],
   "source": [
    "q= 100691.5 #air pressure in pa\n",
    "x_0=0\n",
    "y_0=0"
   ]
  },
  {
   "cell_type": "code",
   "execution_count": 3,
   "id": "14158d6c",
   "metadata": {},
   "outputs": [],
   "source": [
    "#these values change according to the material and the manufacturer's specification (thickness,radius)\n",
    "E= [3.4e11,3.7e11,7.12e10,7.48e10] #young's modulus (in Pa): Sapphire min,max, Fused silica min, max\n",
    "v= [.27,.3,.15,.16] #poisson's ratio: Sapphire min,max, Fused silica min, max\n",
    "h= [.003175,0.00635] #thickness of plate in m: Sapphire, fused silica\n",
    "r= [.037,.049] #radius of plate in m : Sapphire, fused silica"
   ]
  },
  {
   "cell_type": "code",
   "execution_count": 4,
   "id": "f699fd4b",
   "metadata": {},
   "outputs": [],
   "source": [
    "def D(E,h,v):\n",
    "    return E*h**3/(12*(1-v**2))"
   ]
  },
  {
   "cell_type": "code",
   "execution_count": 5,
   "id": "a3d6770f",
   "metadata": {},
   "outputs": [],
   "source": [
    "def w(E,h,v,r):\n",
    "    D=E*h**3/(12*(1-v**2))\n",
    "    return np.abs(-1*q*(x_0**2+y_0**2-r**2)**2/(64*D))"
   ]
  },
  {
   "cell_type": "code",
   "execution_count": 6,
   "id": "f6805e06",
   "metadata": {},
   "outputs": [
    {
     "name": "stdout",
     "output_type": "stream",
     "text": [
      "the minimum deformation for fused silica is 5.54 um\n",
      "the maximum deformation for fused silica is 5.84 um\n"
     ]
    }
   ],
   "source": [
    "fs_min=round(w(E[3],h[1],v[3],r[1])/1e-6, 2)\n",
    "fs_max=round(w(E[2],h[1],v[2],r[1])/1e-6, 2)\n",
    "print(\"the minimum deformation for fused silica is\" ,fs_min ,\"um\") #microns\n",
    "print(\"the maximum deformation for fused silica is\" ,fs_max ,\"um\") #microns"
   ]
  },
  {
   "cell_type": "code",
   "execution_count": 7,
   "id": "07d53610",
   "metadata": {},
   "outputs": [
    {
     "name": "stdout",
     "output_type": "stream",
     "text": [
      "the minimum deformation for sapphire is 2.72 um\n",
      "the maximum deformation for sapphire is 3.01 um\n"
     ]
    }
   ],
   "source": [
    "s_min=round(w(E[1],h[0],v[1],r[0])/1e-6, 2)\n",
    "s_max=round(w(E[0],h[0],v[0],r[0])/1e-6, 2)\n",
    "print(\"the minimum deformation for sapphire is\" ,s_min ,\"um\") #microns\n",
    "print(\"the maximum deformation for sapphire is\" ,s_max ,\"um\") #microns"
   ]
  },
  {
   "cell_type": "code",
   "execution_count": 8,
   "id": "0478035d",
   "metadata": {},
   "outputs": [
    {
     "name": "stdout",
     "output_type": "stream",
     "text": [
      "       material    E (Gpa)        v     h (m)  r (m)\n",
      "0      sapphire    340-370   .27-.3  0.003175  0.037\n",
      "1  fused silica  71.2-74.8  .15-.16  0.006350  0.049\n"
     ]
    }
   ],
   "source": [
    "data = {'material':['sapphire', 'fused silica'],\n",
    "        'E (Gpa)':['340-370','71.2-74.8'],\n",
    "       'v': ['.27-.3','.15-.16'],\n",
    "        'h (m)':[h[0], h[1]],\n",
    "        'r (m)': [r[0], r[1]]}\n",
    "df = pd.DataFrame(data)\n",
    "print(df)"
   ]
  },
  {
   "cell_type": "code",
   "execution_count": 9,
   "id": "f1eb5eec",
   "metadata": {},
   "outputs": [
    {
     "name": "stdout",
     "output_type": "stream",
     "text": [
      "       material  transmission % deformation (um)    E (Gpa)        v\n",
      "0     sapphire               96        2.72-3.01    340-370   .27-.3\n",
      "1  fused silica              93        5.54-5.84  71.2-74.8  .15-.16\n"
     ]
    }
   ],
   "source": [
    "data = {'material':['sapphire ', 'fused silica'],\n",
    "        'transmission %':[96, 93],\n",
    "        'deformation (um)': ['2.72-3.01', '5.54-5.84'],\n",
    "       'E (Gpa)':['340-370','71.2-74.8'],\n",
    "       'v': ['.27-.3','.15-.16']}\n",
    "df = pd.DataFrame(data)\n",
    "print(df)"
   ]
  }
 ],
 "metadata": {
  "kernelspec": {
   "display_name": "Python 3 (ipykernel)",
   "language": "python",
   "name": "python3"
  },
  "language_info": {
   "codemirror_mode": {
    "name": "ipython",
    "version": 3
   },
   "file_extension": ".py",
   "mimetype": "text/x-python",
   "name": "python",
   "nbconvert_exporter": "python",
   "pygments_lexer": "ipython3",
   "version": "3.9.9"
  }
 },
 "nbformat": 4,
 "nbformat_minor": 5
}
